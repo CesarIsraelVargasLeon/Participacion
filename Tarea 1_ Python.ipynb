{
 "cells": [
  {
   "cell_type": "markdown",
   "id": "b2fd1ff4",
   "metadata": {},
   "source": [
    "# 1."
   ]
  },
  {
   "cell_type": "code",
   "execution_count": 72,
   "id": "e49ca1fe",
   "metadata": {},
   "outputs": [
    {
     "name": "stdout",
     "output_type": "stream",
     "text": [
      "La Facultad de Ciencias es  muy muy muy muy muy muy muy muy muy muy muy muy muy muy muy muy muy muy muy muy muy muy muy muy muy muy muy muy muy muy muy muy muy muy muy muy muy muy muy muy muy muy muy muy muy muy muy muy muy muy muy muy muy muy muy muy muy muy muy muy muy muy muy muy muy muy muy muy muy muy muy muy muy muy muy muy muy muy muy muy muy muy muy muy muy muy muy muy muy muy muy muy muy muy muy muy muy muy muy muy divertida\n"
     ]
    }
   ],
   "source": [
    "a=' muy'\n",
    "print(\"La Facultad de Ciencias es\",a*100,'divertida')"
   ]
  },
  {
   "cell_type": "markdown",
   "id": "b0bc6b2c",
   "metadata": {},
   "source": [
    "# 2."
   ]
  },
  {
   "cell_type": "code",
   "execution_count": 73,
   "id": "144b0876",
   "metadata": {},
   "outputs": [
    {
     "name": "stdout",
     "output_type": "stream",
     "text": [
      "El número triangular número 1 es: 1\n",
      "El número triangular número 2 es: 3\n",
      "El número triangular número 3 es: 6\n",
      "El número triangular número 4 es: 10\n",
      "El número triangular número 5 es: 15\n",
      "El número triangular número 6 es: 21\n",
      "El número triangular número 7 es: 28\n",
      "El número triangular número 8 es: 36\n",
      "El número triangular número 9 es: 45\n",
      "El número triangular número 10 es: 55\n",
      "El número triangular número 11 es: 66\n",
      "El número triangular número 12 es: 78\n",
      "El número triangular número 13 es: 91\n",
      "El número triangular número 14 es: 105\n",
      "El número triangular número 15 es: 120\n",
      "El número triangular número 16 es: 136\n",
      "El número triangular número 17 es: 153\n",
      "El número triangular número 18 es: 171\n",
      "El número triangular número 19 es: 190\n",
      "El número triangular número 20 es: 210\n",
      "El número triangular número 21 es: 231\n",
      "El número triangular número 22 es: 253\n",
      "El número triangular número 23 es: 276\n",
      "El número triangular número 24 es: 300\n",
      "El número triangular número 25 es: 325\n",
      "El número triangular número 26 es: 351\n",
      "El número triangular número 27 es: 378\n",
      "El número triangular número 28 es: 406\n",
      "El número triangular número 29 es: 435\n",
      "El número triangular número 30 es: 465\n",
      "El número triangular número 31 es: 496\n",
      "El número triangular número 32 es: 528\n",
      "El número triangular número 33 es: 561\n",
      "El número triangular número 34 es: 595\n",
      "El número triangular número 35 es: 630\n",
      "El número triangular número 36 es: 666\n",
      "El número triangular número 37 es: 703\n",
      "El número triangular número 38 es: 741\n",
      "El número triangular número 39 es: 780\n",
      "El número triangular número 40 es: 820\n",
      "El número triangular número 41 es: 861\n",
      "El número triangular número 42 es: 903\n",
      "El número triangular número 43 es: 946\n",
      "El número triangular número 44 es: 990\n",
      "El número triangular número 45 es: 1035\n",
      "El número triangular número 46 es: 1081\n",
      "El número triangular número 47 es: 1128\n",
      "El número triangular número 48 es: 1176\n",
      "El número triangular número 49 es: 1225\n",
      "El número triangular número 50 es: 1275\n",
      "El número triangular número 51 es: 1326\n",
      "El número triangular número 52 es: 1378\n",
      "El número triangular número 53 es: 1431\n",
      "El número triangular número 54 es: 1485\n",
      "El número triangular número 55 es: 1540\n",
      "El número triangular número 56 es: 1596\n",
      "El número triangular número 57 es: 1653\n",
      "El número triangular número 58 es: 1711\n",
      "El número triangular número 59 es: 1770\n",
      "El número triangular número 60 es: 1830\n",
      "El número triangular número 61 es: 1891\n",
      "El número triangular número 62 es: 1953\n",
      "El número triangular número 63 es: 2016\n",
      "El número triangular número 64 es: 2080\n",
      "El número triangular número 65 es: 2145\n",
      "El número triangular número 66 es: 2211\n",
      "El número triangular número 67 es: 2278\n",
      "El número triangular número 68 es: 2346\n",
      "El número triangular número 69 es: 2415\n",
      "El número triangular número 70 es: 2485\n",
      "El número triangular número 71 es: 2556\n",
      "El número triangular número 72 es: 2628\n",
      "El número triangular número 73 es: 2701\n",
      "El número triangular número 74 es: 2775\n",
      "El número triangular número 75 es: 2850\n",
      "El número triangular número 76 es: 2926\n",
      "El número triangular número 77 es: 3003\n",
      "El número triangular número 78 es: 3081\n",
      "El número triangular número 79 es: 3160\n",
      "El número triangular número 80 es: 3240\n",
      "El número triangular número 81 es: 3321\n",
      "El número triangular número 82 es: 3403\n",
      "El número triangular número 83 es: 3486\n",
      "El número triangular número 84 es: 3570\n",
      "El número triangular número 85 es: 3655\n",
      "El número triangular número 86 es: 3741\n",
      "El número triangular número 87 es: 3828\n",
      "El número triangular número 88 es: 3916\n",
      "El número triangular número 89 es: 4005\n",
      "El número triangular número 90 es: 4095\n",
      "El número triangular número 91 es: 4186\n",
      "El número triangular número 92 es: 4278\n",
      "El número triangular número 93 es: 4371\n",
      "El número triangular número 94 es: 4465\n",
      "El número triangular número 95 es: 4560\n",
      "El número triangular número 96 es: 4656\n",
      "El número triangular número 97 es: 4753\n",
      "El número triangular número 98 es: 4851\n",
      "El número triangular número 99 es: 4950\n",
      "El número triangular número 100 es: 5050\n",
      "El número triangular número 101 es: 5151\n",
      "El número triangular número 102 es: 5253\n",
      "El número triangular número 103 es: 5356\n",
      "El número triangular número 104 es: 5460\n",
      "El número triangular número 105 es: 5565\n",
      "El número triangular número 106 es: 5671\n",
      "El número triangular número 107 es: 5778\n",
      "El número triangular número 108 es: 5886\n",
      "El número triangular número 109 es: 5995\n",
      "El número triangular número 110 es: 6105\n",
      "El número triangular número 111 es: 6216\n",
      "El número triangular número 112 es: 6328\n",
      "El número triangular número 113 es: 6441\n",
      "El número triangular número 114 es: 6555\n",
      "El número triangular número 115 es: 6670\n",
      "El número triangular número 116 es: 6786\n",
      "El número triangular número 117 es: 6903\n",
      "El número triangular número 118 es: 7021\n",
      "El número triangular número 119 es: 7140\n",
      "El número triangular número 120 es: 7260\n",
      "El número triangular número 121 es: 7381\n",
      "El número triangular número 122 es: 7503\n",
      "El número triangular número 123 es: 7626\n",
      "El número triangular número 124 es: 7750\n",
      "El número triangular número 125 es: 7875\n",
      "El número triangular número 126 es: 8001\n",
      "El número triangular número 127 es: 8128\n",
      "El número triangular número 128 es: 8256\n",
      "El número triangular número 129 es: 8385\n",
      "El número triangular número 130 es: 8515\n",
      "El número triangular número 131 es: 8646\n",
      "El número triangular número 132 es: 8778\n",
      "El número triangular número 133 es: 8911\n",
      "El número triangular número 134 es: 9045\n",
      "El número triangular número 135 es: 9180\n",
      "El número triangular número 136 es: 9316\n",
      "El número triangular número 137 es: 9453\n",
      "El número triangular número 138 es: 9591\n",
      "El número triangular número 139 es: 9730\n",
      "El número triangular número 140 es: 9870\n",
      "El número triangular número 141 es: 10011\n",
      "El número triangular número 142 es: 10153\n",
      "El número triangular número 143 es: 10296\n",
      "El número triangular número 144 es: 10440\n",
      "El número triangular número 145 es: 10585\n",
      "El número triangular número 146 es: 10731\n",
      "El número triangular número 147 es: 10878\n",
      "El número triangular número 148 es: 11026\n",
      "El número triangular número 149 es: 11175\n",
      "El número triangular número 150 es: 11325\n",
      "El número triangular número 151 es: 11476\n",
      "El número triangular número 152 es: 11628\n",
      "El número triangular número 153 es: 11781\n",
      "El número triangular número 154 es: 11935\n",
      "El número triangular número 155 es: 12090\n",
      "El número triangular número 156 es: 12246\n",
      "El número triangular número 157 es: 12403\n",
      "El número triangular número 158 es: 12561\n",
      "El número triangular número 159 es: 12720\n",
      "El número triangular número 160 es: 12880\n",
      "El número triangular número 161 es: 13041\n",
      "El número triangular número 162 es: 13203\n",
      "El número triangular número 163 es: 13366\n",
      "El número triangular número 164 es: 13530\n",
      "El número triangular número 165 es: 13695\n",
      "El número triangular número 166 es: 13861\n",
      "El número triangular número 167 es: 14028\n",
      "El número triangular número 168 es: 14196\n",
      "El número triangular número 169 es: 14365\n",
      "El número triangular número 170 es: 14535\n",
      "El número triangular número 171 es: 14706\n",
      "El número triangular número 172 es: 14878\n",
      "El número triangular número 173 es: 15051\n",
      "El número triangular número 174 es: 15225\n",
      "El número triangular número 175 es: 15400\n",
      "El número triangular número 176 es: 15576\n",
      "El número triangular número 177 es: 15753\n",
      "El número triangular número 178 es: 15931\n",
      "El número triangular número 179 es: 16110\n",
      "El número triangular número 180 es: 16290\n",
      "El número triangular número 181 es: 16471\n",
      "El número triangular número 182 es: 16653\n",
      "El número triangular número 183 es: 16836\n",
      "El número triangular número 184 es: 17020\n",
      "El número triangular número 185 es: 17205\n",
      "El número triangular número 186 es: 17391\n",
      "El número triangular número 187 es: 17578\n",
      "El número triangular número 188 es: 17766\n",
      "El número triangular número 189 es: 17955\n",
      "El número triangular número 190 es: 18145\n",
      "El número triangular número 191 es: 18336\n",
      "El número triangular número 192 es: 18528\n",
      "El número triangular número 193 es: 18721\n",
      "El número triangular número 194 es: 18915\n",
      "El número triangular número 195 es: 19110\n",
      "El número triangular número 196 es: 19306\n",
      "El número triangular número 197 es: 19503\n",
      "El número triangular número 198 es: 19701\n",
      "El número triangular número 199 es: 19900\n",
      "El número triangular número 200 es: 20100\n"
     ]
    }
   ],
   "source": [
    "b=1\n",
    "c=2\n",
    "v=1\n",
    "print('El número triangular número 1 es: 1')\n",
    "for i in range (199):\n",
    "    b+=c\n",
    "    c+=1\n",
    "    v+=1\n",
    "    print('El número triangular número', v, 'es:', b)"
   ]
  },
  {
   "cell_type": "markdown",
   "id": "4b6d5c0a",
   "metadata": {},
   "source": [
    "# 3."
   ]
  },
  {
   "cell_type": "code",
   "execution_count": 74,
   "id": "a5a7c082",
   "metadata": {},
   "outputs": [
    {
     "name": "stdout",
     "output_type": "stream",
     "text": [
      "[0, 1, 8, 27, 64, 125, 216, 343, 512, 729, 1000, 1331, 1728, 2197, 2744, 3375, 4096, 4913, 5832, 6859, 8000, 9261, 10648, 12167, 13824, 15625, 17576, 19683, 21952, 24389, 27000, 29791, 32768, 35937, 39304, 42875, 46656, 50653, 54872, 59319, 64000, 68921, 74088, 79507, 85184, 91125, 97336, 103823, 110592, 117649, 125000, 132651, 140608, 148877, 157464, 166375, 175616, 185193, 195112, 205379, 216000, 226981, 238328, 250047, 262144, 274625, 287496, 300763, 314432, 328509, 343000, 357911, 373248, 389017, 405224, 421875, 438976, 456533, 474552, 493039, 512000, 531441, 551368, 571787, 592704, 614125, 636056, 658503, 681472, 704969, 729000, 753571, 778688, 804357, 830584, 857375, 884736, 912673, 941192, 970299, 1000000, 1030301, 1061208, 1092727, 1124864, 1157625, 1191016, 1225043, 1259712, 1295029, 1331000, 1367631, 1404928, 1442897, 1481544, 1520875, 1560896, 1601613, 1643032, 1685159, 1728000, 1771561, 1815848, 1860867, 1906624, 1953125, 2000376, 2048383, 2097152, 2146689, 2197000, 2248091, 2299968, 2352637, 2406104, 2460375, 2515456, 2571353, 2628072, 2685619, 2744000, 2803221, 2863288, 2924207, 2985984, 3048625, 3112136, 3176523, 3241792, 3307949, 3375000, 3442951, 3511808, 3581577, 3652264, 3723875, 3796416, 3869893, 3944312, 4019679, 4096000, 4173281, 4251528, 4330747, 4410944, 4492125, 4574296, 4657463, 4741632, 4826809, 4913000, 5000211, 5088448, 5177717, 5268024, 5359375, 5451776, 5545233, 5639752, 5735339, 5832000, 5929741, 6028568, 6128487, 6229504, 6331625, 6434856, 6539203, 6644672, 6751269, 6859000, 6967871, 7077888, 7189057, 7301384, 7414875, 7529536, 7645373, 7762392, 7880599, 8000000, 8120601, 8242408, 8365427, 8489664, 8615125, 8741816, 8869743, 8998912, 9129329, 9261000, 9393931, 9528128, 9663597, 9800344, 9938375, 10077696, 10218313, 10360232, 10503459, 10648000, 10793861, 10941048, 11089567, 11239424, 11390625, 11543176, 11697083, 11852352, 12008989, 12167000, 12326391, 12487168, 12649337, 12812904, 12977875, 13144256, 13312053, 13481272, 13651919, 13824000, 13997521, 14172488, 14348907, 14526784, 14706125, 14886936, 15069223, 15252992, 15438249, 15625000, 15813251, 16003008, 16194277, 16387064, 16581375, 16777216, 16974593, 17173512, 17373979, 17576000, 17779581, 17984728, 18191447, 18399744, 18609625, 18821096, 19034163, 19248832, 19465109, 19683000, 19902511, 20123648, 20346417, 20570824, 20796875, 21024576, 21253933, 21484952, 21717639, 21952000, 22188041, 22425768, 22665187, 22906304, 23149125, 23393656, 23639903, 23887872, 24137569, 24389000, 24642171, 24897088, 25153757, 25412184, 25672375, 25934336, 26198073, 26463592, 26730899, 27000000, 27270901, 27543608, 27818127, 28094464, 28372625, 28652616, 28934443, 29218112, 29503629, 29791000, 30080231, 30371328, 30664297, 30959144, 31255875, 31554496, 31855013, 32157432, 32461759, 32768000, 33076161, 33386248, 33698267, 34012224, 34328125, 34645976, 34965783, 35287552, 35611289, 35937000, 36264691, 36594368, 36926037, 37259704, 37595375, 37933056, 38272753, 38614472, 38958219, 39304000, 39651821, 40001688, 40353607, 40707584, 41063625, 41421736, 41781923, 42144192, 42508549, 42875000, 43243551, 43614208, 43986977, 44361864, 44738875, 45118016, 45499293, 45882712, 46268279, 46656000, 47045881, 47437928, 47832147, 48228544, 48627125, 49027896, 49430863, 49836032, 50243409, 50653000, 51064811, 51478848, 51895117, 52313624, 52734375, 53157376, 53582633, 54010152, 54439939, 54872000, 55306341, 55742968, 56181887, 56623104, 57066625, 57512456, 57960603, 58411072, 58863869, 59319000, 59776471, 60236288, 60698457, 61162984, 61629875, 62099136, 62570773, 63044792, 63521199, 64000000, 64481201, 64964808, 65450827, 65939264, 66430125, 66923416, 67419143, 67917312, 68417929, 68921000, 69426531, 69934528, 70444997, 70957944, 71473375, 71991296, 72511713, 73034632, 73560059, 74088000, 74618461, 75151448, 75686967, 76225024, 76765625, 77308776, 77854483, 78402752, 78953589, 79507000, 80062991, 80621568, 81182737, 81746504, 82312875, 82881856, 83453453, 84027672, 84604519, 85184000, 85766121, 86350888, 86938307, 87528384, 88121125, 88716536, 89314623, 89915392, 90518849, 91125000, 91733851, 92345408, 92959677, 93576664, 94196375, 94818816, 95443993, 96071912, 96702579, 97336000, 97972181, 98611128, 99252847, 99897344, 100544625, 101194696, 101847563, 102503232, 103161709, 103823000, 104487111, 105154048, 105823817, 106496424, 107171875, 107850176, 108531333, 109215352, 109902239, 110592000, 111284641, 111980168, 112678587, 113379904, 114084125, 114791256, 115501303, 116214272, 116930169, 117649000, 118370771, 119095488, 119823157, 120553784, 121287375, 122023936, 122763473, 123505992, 124251499, 125000000]\n"
     ]
    }
   ],
   "source": [
    "cubos=[]\n",
    "for i in range(501):\n",
    "    cubos.append(i**3)\n",
    "print(cubos)"
   ]
  },
  {
   "cell_type": "markdown",
   "id": "659ead93",
   "metadata": {},
   "source": [
    "# 4."
   ]
  },
  {
   "cell_type": "code",
   "execution_count": 75,
   "id": "5a82890b",
   "metadata": {},
   "outputs": [
    {
     "name": "stdout",
     "output_type": "stream",
     "text": [
      "[1, 1, 2, 3, 5, 8, 13, 21, 34, 55, 89, 144, 233, 377, 610, 987, 1597, 2584, 4181, 6765, 10946, 17711, 28657, 46368, 75025, 121393, 196418, 317811, 514229, 832040, 1346269, 2178309, 3524578, 5702887, 9227465, 14930352, 24157817, 39088169, 63245986, 102334155, 165580141, 267914296, 433494437, 701408733, 1134903170, 1836311903, 2971215073, 4807526976, 7778742049, 12586269025, 20365011074, 32951280099, 53316291173, 86267571272, 139583862445, 225851433717, 365435296162, 591286729879, 956722026041, 1548008755920, 2504730781961, 4052739537881, 6557470319842, 10610209857723, 17167680177565, 27777890035288, 44945570212853, 72723460248141, 117669030460994, 190392490709135, 308061521170129, 498454011879264, 806515533049393, 1304969544928657, 2111485077978050, 3416454622906707, 5527939700884757, 8944394323791464, 14472334024676221, 23416728348467685, 37889062373143906, 61305790721611591, 99194853094755497, 160500643816367088, 259695496911122585, 420196140727489673, 679891637638612258, 1100087778366101931, 1779979416004714189, 2880067194370816120, 4660046610375530309, 7540113804746346429, 12200160415121876738, 19740274219868223167, 31940434634990099905, 51680708854858323072, 83621143489848422977, 135301852344706746049, 218922995834555169026, 354224848179261915075, 573147844013817084101, 927372692193078999176, 1500520536206896083277, 2427893228399975082453, 3928413764606871165730, 6356306993006846248183, 10284720757613717413913, 16641027750620563662096, 26925748508234281076009, 43566776258854844738105, 70492524767089125814114, 114059301025943970552219, 184551825793033096366333, 298611126818977066918552, 483162952612010163284885, 781774079430987230203437, 1264937032042997393488322, 2046711111473984623691759, 3311648143516982017180081, 5358359254990966640871840, 8670007398507948658051921, 14028366653498915298923761, 22698374052006863956975682, 36726740705505779255899443, 59425114757512643212875125, 96151855463018422468774568, 155576970220531065681649693, 251728825683549488150424261, 407305795904080553832073954, 659034621587630041982498215, 1066340417491710595814572169, 1725375039079340637797070384, 2791715456571051233611642553, 4517090495650391871408712937, 7308805952221443105020355490, 11825896447871834976429068427, 19134702400093278081449423917, 30960598847965113057878492344, 50095301248058391139327916261, 81055900096023504197206408605, 131151201344081895336534324866, 212207101440105399533740733471, 343358302784187294870275058337, 555565404224292694404015791808, 898923707008479989274290850145, 1454489111232772683678306641953, 2353412818241252672952597492098, 3807901929474025356630904134051, 6161314747715278029583501626149, 9969216677189303386214405760200, 16130531424904581415797907386349, 26099748102093884802012313146549, 42230279526998466217810220532898, 68330027629092351019822533679447, 110560307156090817237632754212345, 178890334785183168257455287891792, 289450641941273985495088042104137, 468340976726457153752543329995929, 757791618667731139247631372100066, 1226132595394188293000174702095995, 1983924214061919432247806074196061, 3210056809456107725247980776292056, 5193981023518027157495786850488117, 8404037832974134882743767626780173, 13598018856492162040239554477268290, 22002056689466296922983322104048463, 35600075545958458963222876581316753, 57602132235424755886206198685365216, 93202207781383214849429075266681969, 150804340016807970735635273952047185, 244006547798191185585064349218729154, 394810887814999156320699623170776339, 638817435613190341905763972389505493, 1033628323428189498226463595560281832, 1672445759041379840132227567949787325, 2706074082469569338358691163510069157, 4378519841510949178490918731459856482, 7084593923980518516849609894969925639, 11463113765491467695340528626429782121, 18547707689471986212190138521399707760, 30010821454963453907530667147829489881, 48558529144435440119720805669229197641, 78569350599398894027251472817058687522, 127127879743834334146972278486287885163, 205697230343233228174223751303346572685, 332825110087067562321196029789634457848, 538522340430300790495419781092981030533, 871347450517368352816615810882615488381, 1409869790947669143312035591975596518914, 2281217241465037496128651402858212007295, 3691087032412706639440686994833808526209, 5972304273877744135569338397692020533504, 9663391306290450775010025392525829059713, 15635695580168194910579363790217849593217, 25299086886458645685589389182743678652930, 40934782466626840596168752972961528246147, 66233869353085486281758142155705206899077, 107168651819712326877926895128666735145224, 173402521172797813159685037284371942044301, 280571172992510140037611932413038677189525]\n"
     ]
    }
   ],
   "source": [
    "a=1\n",
    "v=1\n",
    "F=[v,a]\n",
    "for i in range(198):\n",
    "    v+=F[i]\n",
    "    F.append(v)\n",
    "print(F)"
   ]
  },
  {
   "cell_type": "markdown",
   "id": "2c85e51f",
   "metadata": {},
   "source": [
    "# 5."
   ]
  },
  {
   "cell_type": "code",
   "execution_count": 76,
   "id": "e3aee5c1",
   "metadata": {},
   "outputs": [
    {
     "name": "stdout",
     "output_type": "stream",
     "text": [
      "¿Hasta que número quieres ver el número de primos que hay?100\n",
      "La lista de números primos en el rango [0, 100] es:\n",
      "El primo número 1 es 2\n",
      "El primo número 2 es 3\n",
      "El primo número 3 es 5\n",
      "El primo número 4 es 7\n",
      "El primo número 5 es 11\n",
      "El primo número 6 es 13\n",
      "El primo número 7 es 17\n",
      "El primo número 8 es 19\n",
      "El primo número 9 es 23\n",
      "El primo número 10 es 29\n",
      "El primo número 11 es 31\n",
      "El primo número 12 es 37\n",
      "El primo número 13 es 41\n",
      "El primo número 14 es 43\n",
      "El primo número 15 es 47\n",
      "El primo número 16 es 53\n",
      "El primo número 17 es 59\n",
      "El primo número 18 es 61\n",
      "El primo número 19 es 67\n",
      "El primo número 20 es 71\n",
      "El primo número 21 es 73\n",
      "El primo número 22 es 79\n",
      "El primo número 23 es 83\n",
      "El primo número 24 es 89\n",
      "El primo número 25 es 97\n"
     ]
    }
   ],
   "source": [
    "lista = int(input('¿Hasta que número quieres ver el número de primos que hay?'))\n",
    "d = range(lista+1)\n",
    "p = [0, lista]\n",
    "k = []\n",
    "def es_primo(n):\n",
    "    primo = True\n",
    "    if n <= 1:\n",
    "        return False\n",
    "    for f in range (2, n):\n",
    "        if n%f==0:\n",
    "            return False\n",
    "    else:\n",
    "        return True\n",
    "    return primo\n",
    "for i in d:\n",
    "    if es_primo(i)==True:\n",
    "        k.append(i)\n",
    "print('La lista de números primos en el rango', p, 'es:')\n",
    "o = len(k)\n",
    "for h in range(o):\n",
    "    print('El primo número', (h+1),'es', k[h])"
   ]
  },
  {
   "cell_type": "markdown",
   "id": "2acbdafe",
   "metadata": {},
   "source": [
    "# 6."
   ]
  },
  {
   "cell_type": "code",
   "execution_count": 77,
   "id": "6d41db1a",
   "metadata": {},
   "outputs": [],
   "source": [
    "def mult(a,b):\n",
    "    c=0\n",
    "    f=0\n",
    "    while c<b:\n",
    "        f+=a\n",
    "        c+=1\n",
    "    return f"
   ]
  },
  {
   "cell_type": "markdown",
   "id": "2d3e6dd3",
   "metadata": {},
   "source": [
    "# 7."
   ]
  },
  {
   "cell_type": "code",
   "execution_count": 78,
   "id": "1df4073e",
   "metadata": {},
   "outputs": [
    {
     "name": "stdout",
     "output_type": "stream",
     "text": [
      "El número de semanas que se puede permitir la producción de tu película es de 16.0 semanas o 4.0 meses.\n"
     ]
    }
   ],
   "source": [
    "prisemana=31000000.0\n",
    "p=inicial-prisemana\n",
    "semanas=1.0\n",
    "while p>=0:\n",
    "    p-=(prisemana*0.8)\n",
    "    prisemana=(prisemana*0.8)\n",
    "    semanas+=1\n",
    "print('El número de semanas que se puede permitir la producción de tu película es de', semanas, 'semanas o', (semanas)/4, 'meses.')"
   ]
  },
  {
   "cell_type": "markdown",
   "id": "a29e3460",
   "metadata": {},
   "source": [
    "# 8."
   ]
  },
  {
   "cell_type": "code",
   "execution_count": 79,
   "id": "0e6bba4d",
   "metadata": {},
   "outputs": [
    {
     "name": "stdout",
     "output_type": "stream",
     "text": [
      "El paciente Israel tiene 17 años, su IMC es de 24.221453287197235, está en la categoría de normal y está en su peso ideal\n"
     ]
    }
   ],
   "source": [
    "while confirmacion!='1':\n",
    "    sexo = input('Dime tu sexo, marca \"F\" para Mujer y \"M\" para hombre: ')\n",
    "    nombre = input('¿Cómo te llamas? ') #Aquí le estoy preguntando su nombre al paciente y metiendola a\n",
    "    # la variable nombre\n",
    "    edad = int(input('¿Cual es tu edad? '))#Aquí le estoy preguntando su edad al paciente y metiendola a\n",
    "    # la variable edad y lo convierto a entero\n",
    "    peso = float(input('¿Cual es tu peso en Kg? '))#Aquí pregunto el peso\n",
    "    altura = float(input('Dime tu altura en metros: '))#Aquí pregunto la estatura\n",
    "    antecendentes_medicos = input('¿Tienes algún familiar con diabetes, cancér o algúna enfermendad grave?(S/N)')\n",
    "    confirmacion = input('¿Confirmas que tus datos son correctos?, presiona 1 para sí y 0 para no')\n",
    "#Calculamos el IMC del paciente con la fórmula IMC=peso/altura**2\n",
    "IMC = peso/altura**2\n",
    "#Clasificamos según el valor del IMC para sexo Masculino\n",
    "# desnutrición <18.5\n",
    "# normal 18.5-24.9\n",
    "# sobrepeso 25-29.9\n",
    "# obesidad >30\n",
    "#Clasificamos según el valor del IMC para sexo Femenino\n",
    "# desnutrición <16\n",
    "# normal 16-24.9\n",
    "# sobrepeso 25-29.9\n",
    "# obesidad >30\n",
    "#Ahora defino el condicional para cada clasificación de IMC del paciente por sexo\n",
    "if sexo == 'M':\n",
    "    if IMC < 18.5:\n",
    "        print('El paciente {} tiene {} años, su IMC es de {} y está en la categoría de desnutrición, consulte a tu médico'.format(nombre, edad, IMC))#Si se cumple este caso me imprimirá esto\n",
    "    elif 18.5 <= IMC <= 25:\n",
    "        print('El paciente {} tiene {} años, su IMC es de {}, está en la categoría de normal y está en su peso ideal'.format(nombre, edad, IMC))#Si se cumple este caso me imprimirá esto\n",
    "    elif 25 < IMC <= 29.9:\n",
    "        print('El paciente {} tiene {} años, su IMC es de {} y está en la categoría de sobrepeso, consulte a tu médico'.format(nombre, edad, IMC))#Si se cumple este caso me imprimirá esto\n",
    "    else:\n",
    "        print('El paciente {} tiene {} años, su IMC es de {} y está en la categoría de obesidad, se recomienda consultar al doctor'.format(nombre, edad, IMC))#Si no se cumple alguno de los anteriores imprime esto\n",
    "elif sexo == 'F':\n",
    "    if IMC < 16:\n",
    "        print('El paciente {} tiene {} años, su IMC es de {} y está en la categoría de desnutrición, consulte a tu médico'.format(nombre, edad, IMC))#Si se cumple este caso me imprimirá esto\n",
    "    elif 16 <= IMC < 25:\n",
    "        print('El paciente {} tiene {} años, su IMC es de {}, está en la categoría de normal y está en su peso ideal'.format(nombre, edad, IMC))#Si se cumple este caso me imprimirá esto\n",
    "    elif 25 <= IMC <= 29.9:\n",
    "        print('El paciente {} tiene {} años, su IMC es de {} y está en la categoría de sobrepeso, consulte a tu médico'.format(nombre, edad, IMC))#Si se cumple este caso me imprimirá esto\n",
    "    else:\n",
    "        print('El paciente {} tiene {} años, su IMC es de {} y está en la categoría de obesidad, se recomienda consultar al doctor'.format(nombre, edad, IMC))#Si no se cumple alguno de los anteriores imprime esto"
   ]
  }
 ],
 "metadata": {
  "kernelspec": {
   "display_name": "Python 3 (ipykernel)",
   "language": "python",
   "name": "python3"
  },
  "language_info": {
   "codemirror_mode": {
    "name": "ipython",
    "version": 3
   },
   "file_extension": ".py",
   "mimetype": "text/x-python",
   "name": "python",
   "nbconvert_exporter": "python",
   "pygments_lexer": "ipython3",
   "version": "3.9.13"
  }
 },
 "nbformat": 4,
 "nbformat_minor": 5
}
