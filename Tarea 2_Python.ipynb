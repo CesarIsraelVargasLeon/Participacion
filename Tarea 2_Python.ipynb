{
 "cells": [
  {
   "cell_type": "code",
   "execution_count": 2,
   "id": "087bd522",
   "metadata": {},
   "outputs": [],
   "source": [
    "import numpy as np"
   ]
  },
  {
   "cell_type": "markdown",
   "id": "fd523653",
   "metadata": {},
   "source": [
    "# 1"
   ]
  },
  {
   "cell_type": "code",
   "execution_count": 29,
   "id": "4e861cc0",
   "metadata": {},
   "outputs": [
    {
     "name": "stdout",
     "output_type": "stream",
     "text": [
      "Define los elementos de tu primer array(separalos con ,):78,6\n",
      "Define los elementos de tu segundo array(separalos con ,):2,6\n",
      "[156  36]\n"
     ]
    }
   ],
   "source": [
    "def prod(a,b):\n",
    "    print(a*b)\n",
    "\n",
    "a=input('Define los elementos de tu primer array(separalos con ,):')\n",
    "b=input('Define los elementos de tu segundo array(separalos con ,):')\n",
    "a=a.split(',')\n",
    "b=b.split(',')\n",
    "for i in range(len(a)):\n",
    "    a[i]=int(a[i])\n",
    "for i in range(len(b)):\n",
    "    b[i]=int(b[i])\n",
    "a=np.array(a)\n",
    "b=np.array(b)\n",
    "prod(a,b)"
   ]
  },
  {
   "cell_type": "markdown",
   "id": "3415326a",
   "metadata": {},
   "source": [
    "# 2"
   ]
  },
  {
   "cell_type": "code",
   "execution_count": 202,
   "id": "6c642d6b",
   "metadata": {},
   "outputs": [
    {
     "name": "stdout",
     "output_type": "stream",
     "text": [
      "Define las filas de tu primera matriz(separalas con un punto y las entradas de cada fila por comas):65,23,15.1,2,3.3,59,19\n",
      "Define las filas de tu segunda matriz(separalas con un punto y las entradas de cada fila por comas):56,23,56.63,98,1.1,1,1\n",
      "La matriz resultante es de multiplicar las matrices que has ingresado es:\n",
      "[[5104 3764 3678]\n",
      " [ 185  222   61]\n",
      " [3904 5870  246]]\n"
     ]
    }
   ],
   "source": [
    "def matrix(a,b):\n",
    "    we='La operación de matrices no se puede realizar, intentelo de nuevo'\n",
    "    a=a.split('.')\n",
    "    b=b.split('.')\n",
    "    for i in range(len(a)):\n",
    "        a[i]=a[i].split(',')\n",
    "        z=len(a[i])\n",
    "        for g in range(z):\n",
    "            a[i][g]=int(a[i][g])\n",
    "    for i in range(len(b)):\n",
    "        b[i]=b[i].split(',')\n",
    "        w=len(b[i])\n",
    "        for j in range(w):\n",
    "            b[i][j]=int(b[i][j])\n",
    "    for i in range(len(a)):\n",
    "        a[i]=tuple(a[i])\n",
    "    a=np.array(a)\n",
    "    b=np.array(b)\n",
    "    if len(a[1])!=len(b):\n",
    "        return we\n",
    "    v=[]\n",
    "    re=[]\n",
    "    for i in range(len(a)):\n",
    "        for j in range(len(b)):\n",
    "            p=0\n",
    "            for w in range(len(b)):\n",
    "                k=a[i][w]*b[:,j][w]\n",
    "                p+=k\n",
    "            v.append(p)\n",
    "        c=tuple(v)\n",
    "        re.append(c)\n",
    "        v=[]\n",
    "    RE=np.array(re)\n",
    "    gra='La matriz resultante es de multiplicar las matrices que has ingresado es:'\n",
    "    print(gra)\n",
    "    print(RE)\n",
    "\n",
    "a=input('Define las filas de tu primera matriz(separalas con un punto y las entradas de cada fila por comas):')\n",
    "b=input('Define las filas de tu segunda matriz(separalas con un punto y las entradas de cada fila por comas):')\n",
    "matrix(a,b)"
   ]
  },
  {
   "cell_type": "markdown",
   "id": "b6a47fed",
   "metadata": {},
   "source": [
    "# 3"
   ]
  },
  {
   "cell_type": "code",
   "execution_count": 10,
   "id": "f6afdcba",
   "metadata": {},
   "outputs": [],
   "source": [
    "import sympy as sm"
   ]
  },
  {
   "cell_type": "code",
   "execution_count": 11,
   "id": "b5ee318c",
   "metadata": {},
   "outputs": [],
   "source": [
    "import numpy as np"
   ]
  },
  {
   "cell_type": "code",
   "execution_count": 30,
   "id": "c43860b1",
   "metadata": {},
   "outputs": [
    {
     "name": "stdout",
     "output_type": "stream",
     "text": [
      "Define las filas de tu primera matriz(separalas con un punto y las entradas de cada fila por comas):1,2.3,4\n"
     ]
    },
    {
     "data": {
      "text/plain": [
       "('La matriz tiene determianate no nulo y su matriz inversa asociada es:',\n",
       " Matrix([\n",
       " [ -2,    1],\n",
       " [3/2, -1/2]]))"
      ]
     },
     "execution_count": 30,
     "metadata": {},
     "output_type": "execute_result"
    }
   ],
   "source": [
    "def matri(a):\n",
    "    a=a.split('.')\n",
    "    for i in range(len(a)):\n",
    "        a[i]=a[i].split(',')\n",
    "        z=len(a[i])\n",
    "        for g in range(z):\n",
    "            a[i][g]=int(a[i][g])\n",
    "    C=sm.Matrix(a)\n",
    "    return C\n",
    "def determi(w):\n",
    "    c=w.det()\n",
    "    if c==0:\n",
    "        return 'La matriz A no es invertible'\n",
    "    else:\n",
    "        return ('La matriz tiene determianate no nulo y su matriz inversa asociada es:', w.inv())\n",
    "a=input('Define las filas de tu primera matriz(separalas con un punto y las entradas de cada fila por comas):')\n",
    "g=matri(a)\n",
    "determi(g)"
   ]
  },
  {
   "cell_type": "markdown",
   "id": "67d76168",
   "metadata": {},
   "source": [
    "# 4"
   ]
  },
  {
   "cell_type": "code",
   "execution_count": 7,
   "id": "88c0e963",
   "metadata": {},
   "outputs": [],
   "source": [
    "import sympy as sm"
   ]
  },
  {
   "cell_type": "code",
   "execution_count": 38,
   "id": "a4e4d378",
   "metadata": {},
   "outputs": [
    {
     "name": "stdout",
     "output_type": "stream",
     "text": [
      "Introduce el termino de x de tú primera eq.(aún si es 1 ingresalo):2\n",
      "Introduce el termino de y de tú primera eq.(aún si es 1 ingresalo):5\n",
      "Introduce el segundo miembro de tú primera eq.(aún si es 1 ingresalo):9\n",
      "Introduce el termino de x de tu segunda eq(aún si es 1 ingresalo):-5\n",
      "Introduce el termino de y de tu segunda eq(aún si es 1 ingresalo):9\n",
      "Introduce el segundo miembro de tú segunda eq.(aún si es 1 ingresalo):3\n",
      "Las soluciones de tu sistema son:\n"
     ]
    },
    {
     "data": {
      "text/plain": [
       "{x: 66/43, y: 51/43}"
      ]
     },
     "execution_count": 38,
     "metadata": {},
     "output_type": "execute_result"
    }
   ],
   "source": [
    "x,y=sm.symbols('x y')\n",
    "def stem(h,w,p,j,ñ,o):\n",
    "    a=int(h)\n",
    "    b=int(w)\n",
    "    c=int(j)\n",
    "    d=int(ñ)\n",
    "    e=int(p)\n",
    "    f=int(o)\n",
    "    A=sm.Matrix([[a,b],[c,d]])\n",
    "    B=sm.Matrix([e,f])\n",
    "    X=sm.Matrix([x,y])\n",
    "    N=sm.Eq(A*X,B)\n",
    "    print('Las soluciones de tu sistema son:')\n",
    "    return sm.solve(sm.Eq(X,A.inv()*B),X)\n",
    "h=input('Introduce el termino de x de tú primera eq.(aún si es 1 ingresalo):')\n",
    "w=input('Introduce el termino de y de tú primera eq.(aún si es 1 ingresalo):')\n",
    "p=input('Introduce el segundo miembro de tú primera eq.(aún si es 1 ingresalo):')\n",
    "j=input('Introduce el termino de x de tu segunda eq(aún si es 1 ingresalo):')\n",
    "ñ=input('Introduce el termino de y de tu segunda eq(aún si es 1 ingresalo):')\n",
    "o=input('Introduce el segundo miembro de tú segunda eq.(aún si es 1 ingresalo):')\n",
    "stem(h,w,p,j,ñ,o)"
   ]
  },
  {
   "cell_type": "markdown",
   "id": "c73a92ef",
   "metadata": {},
   "source": [
    "# 5"
   ]
  },
  {
   "cell_type": "code",
   "execution_count": 2,
   "id": "4deab249",
   "metadata": {},
   "outputs": [],
   "source": [
    "import sympy as sm"
   ]
  },
  {
   "cell_type": "code",
   "execution_count": 3,
   "id": "45ab12a4",
   "metadata": {},
   "outputs": [
    {
     "name": "stdout",
     "output_type": "stream",
     "text": [
      "¿Cuál es el signo + o -?-\n",
      "¿Cuál es el exponente?3\n",
      "¿Cuál es la primera variable?w\n",
      "¿Cuál es la segunda?z\n"
     ]
    },
    {
     "data": {
      "text/latex": [
       "$\\displaystyle w^{3} - 3 w^{2} z + 3 w z^{2} - z^{3}$"
      ],
      "text/plain": [
       "w**3 - 3*w**2*z + 3*w*z**2 - z**3"
      ]
     },
     "execution_count": 3,
     "metadata": {},
     "output_type": "execute_result"
    }
   ],
   "source": [
    "def binom(a,b,c,d):\n",
    "    c=sm.symbols(c)\n",
    "    d=sm.symbols(d)\n",
    "    if a=='-':\n",
    "        c=sm.expand((c-d)**b)\n",
    "    elif a=='+':\n",
    "        c=sm.expand((c+d)**b)\n",
    "    return c\n",
    "z=input('¿Cuál es el signo + o -?')\n",
    "v=int(input('¿Cuál es el exponente?'))\n",
    "b=input('¿Cuál es la primera variable?')\n",
    "g=input('¿Cuál es la segunda?')\n",
    "binom(z,v,b,g)"
   ]
  },
  {
   "cell_type": "markdown",
   "id": "f9123728",
   "metadata": {},
   "source": [
    "# 6"
   ]
  },
  {
   "cell_type": "code",
   "execution_count": 2,
   "id": "4ce379e5",
   "metadata": {},
   "outputs": [],
   "source": [
    "import sympy as sm"
   ]
  },
  {
   "cell_type": "code",
   "execution_count": 3,
   "id": "12898284",
   "metadata": {},
   "outputs": [],
   "source": [
    "x,y=sm.symbols('x y')\n",
    "def critic(d):\n",
    "    f=sm.diff(d,x)\n",
    "    print('La ec. de la primera derivada de la función es:') \n",
    "    print(f)\n",
    "    g=sm.diff(d,x,2)\n",
    "    print('La ec. de la segunda derivada de la función es:',g,sep='\\n')\n",
    "    eq=sm.Eq(f,0)\n",
    "    puntos=sm.solve(eq,x)\n",
    "    print('Sus puntos criticos son:',puntos)\n",
    "    for i in puntos:\n",
    "        if g.evalf(subs={x: i})>0:\n",
    "            print('El punto {} es un mínimo'.format(i))\n",
    "        else:\n",
    "            print('El punto {} es un máximo'.format(i))"
   ]
  },
  {
   "cell_type": "code",
   "execution_count": 4,
   "id": "b95f2d49",
   "metadata": {},
   "outputs": [
    {
     "name": "stdout",
     "output_type": "stream",
     "text": [
      "La ec. de la primera derivada de la función es:\n",
      "cos(x)\n",
      "La ec. de la segunda derivada de la función es:\n",
      "-sin(x)\n",
      "Sus puntos criticos son: [pi/2, 3*pi/2]\n",
      "El punto pi/2 es un máximo\n",
      "El punto 3*pi/2 es un mínimo\n"
     ]
    }
   ],
   "source": [
    "critic(sm.sin(x))"
   ]
  },
  {
   "cell_type": "markdown",
   "id": "d281adde",
   "metadata": {},
   "source": [
    "# 7"
   ]
  },
  {
   "cell_type": "code",
   "execution_count": 41,
   "id": "d7ba8e7d",
   "metadata": {},
   "outputs": [],
   "source": [
    "x,y=sm.symbols('x y')\n",
    "def sist(a,b,c,d):\n",
    "    w=sm.Eq(a,b)\n",
    "    f=sm.Eq(c,d)\n",
    "    sust=sm.solve(w,x)\n",
    "    k=f.evalf(subs={x: sust[0]})\n",
    "    l=sm.solve(k,y)\n",
    "    k=w.evalf(subs={y: l[0]})\n",
    "    v=sm.solve(k,x)\n",
    "    print('El sistema:')\n",
    "    print(w,f,sep='\\n')\n",
    "    print('Tiene de soluciones:')\n",
    "    print('y =',l)\n",
    "    print('x =',v)"
   ]
  },
  {
   "cell_type": "code",
   "execution_count": 42,
   "id": "e0f5c741",
   "metadata": {},
   "outputs": [
    {
     "name": "stdout",
     "output_type": "stream",
     "text": [
      "El sistema:\n",
      "Eq(2*x + 5*y, -24)\n",
      "Eq(8*x - 3*y, 19)\n",
      "Tiene de soluciones:\n",
      "y= [-5.00000000000000]\n",
      "x= [0.500000000000000]\n"
     ]
    }
   ],
   "source": [
    "sist(2*x+5*y,-24,8*x-3*y,19)"
   ]
  },
  {
   "cell_type": "markdown",
   "id": "572d7f4e",
   "metadata": {},
   "source": [
    "# 8"
   ]
  },
  {
   "cell_type": "code",
   "execution_count": 43,
   "id": "e4e361cd",
   "metadata": {},
   "outputs": [],
   "source": [
    "import matplotlib.pyplot as plt"
   ]
  },
  {
   "cell_type": "code",
   "execution_count": 53,
   "id": "8474b30e",
   "metadata": {},
   "outputs": [],
   "source": [
    "import numpy as np"
   ]
  },
  {
   "cell_type": "code",
   "execution_count": 46,
   "id": "9a8a8166",
   "metadata": {},
   "outputs": [],
   "source": [
    "import sympy as sm"
   ]
  },
  {
   "cell_type": "code",
   "execution_count": 78,
   "id": "1ce4fb15",
   "metadata": {},
   "outputs": [],
   "source": [
    "x,y=sm.symbols('x y')"
   ]
  },
  {
   "cell_type": "code",
   "execution_count": 115,
   "id": "a344d3f8",
   "metadata": {},
   "outputs": [
    {
     "name": "stdout",
     "output_type": "stream",
     "text": [
      "Las gráficas se intersectan en el punto obtenido en la pregunta anterior\n"
     ]
    },
    {
     "data": {
      "image/png": "[encoded data removed]",
      "text/plain": [
       "<Figure size 432x288 with 1 Axes>"
      ]
     },
     "metadata": {
      "needs_background": "light"
     },
     "output_type": "display_data"
    }
   ],
   "source": [
    "x=np.arange(-10,10,0.01)\n",
    "y=np.array([0.5])\n",
    "v=np.array([-5])\n",
    "def f1(x):\n",
    "    return -2*x/5 - 24/5\n",
    "def f2(x):\n",
    "    return 8*x/3 - 19/3\n",
    "    \n",
    "plt.plot(x, [f1(i) for i in x],color='b',marker='.', markersize=1)\n",
    "plt.plot(x, [f2(i) for i in x],color='g',marker='.', markersize=1)\n",
    "plt.plot(y,v,color='r',marker='o')\n",
    "plt.xlabel('eje x')\n",
    "plt.ylabel('eje y')\n",
    "plt.xlim(-2,2.5)\n",
    "plt.ylim(-7,-2.5)\n",
    "plt.grid()\n",
    "plt.title('Gráficas del ejercico 7')\n",
    "print('Las gráficas se intersectan en el punto obtenido en la pregunta anterior que es la solución del sistema')"
   ]
  },
  {
   "cell_type": "markdown",
   "id": "d0dcb33b",
   "metadata": {},
   "source": [
    "# 9"
   ]
  },
  {
   "cell_type": "code",
   "execution_count": 1,
   "id": "330e31c1",
   "metadata": {},
   "outputs": [],
   "source": [
    "import matplotlib.pyplot as plt\n",
    "import numpy as np\n",
    "import sympy as sm"
   ]
  },
  {
   "cell_type": "code",
   "execution_count": 84,
   "id": "0782cdeb",
   "metadata": {},
   "outputs": [],
   "source": [
    "xrange=np.arange(-7,7,0.3)"
   ]
  },
  {
   "cell_type": "code",
   "execution_count": 85,
   "id": "887e4de8",
   "metadata": {},
   "outputs": [
    {
     "data": {
      "image/png": "[encoded data removed]",
      "text/plain": [
       "<Figure size 432x288 with 6 Axes>"
      ]
     },
     "metadata": {
      "needs_background": "light"
     },
     "output_type": "display_data"
    }
   ],
   "source": [
    "plt.figure()\n",
    "sen=plt.subplot(2,3,1)\n",
    "cos=plt.subplot(2,3,2)\n",
    "tan=plt.subplot(2,3,3)\n",
    "sec=plt.subplot(2,3,4)\n",
    "ctg=plt.subplot(2,3,5)\n",
    "csc=plt.subplot(2,3,6)\n",
    "sen.plot(xrange, np.sin(xrange),'r', label='Seno')\n",
    "sen.grid()\n",
    "sen.legend(loc='upper right')\n",
    "cos.plot(xrange, np.cos(xrange),'m', label='Coseno')\n",
    "\n",
    "cos.grid()\n",
    "cos.legend(loc='upper right')\n",
    "\n",
    "tan.plot(xrange, np.tan(xrange),'g', label='Tangente')\n",
    "\n",
    "tan.grid()\n",
    "tan.legend(loc='upper right')\n",
    "\n",
    "sec.plot(xrange, 1/np.cos(xrange),color='purple', label='Secante')\n",
    "\n",
    "sec.grid()\n",
    "sec.legend(loc='upper right')\n",
    "\n",
    "ctg.plot(xrange, 1/np.tan(xrange),color='yellow', label='Cotangente')\n",
    "\n",
    "ctg.grid()\n",
    "ctg.legend(loc='upper right')\n",
    "\n",
    "csc.plot(xrange, 1/np.sin(xrange),color='blue', label='Cosecante')\n",
    "\n",
    "csc.grid()\n",
    "csc.legend(loc='upper right')\n",
    "\n",
    "plt.ylabel('eje y')\n",
    "plt.xlabel('eje x')\n",
    "\n",
    "plt.show()"
   ]
  },
  {
   "cell_type": "markdown",
   "id": "35ff7e88",
   "metadata": {},
   "source": [
    "# 10"
   ]
  },
  {
   "cell_type": "code",
   "execution_count": 100,
   "id": "c6e838a1",
   "metadata": {},
   "outputs": [
    {
     "data": {
      "text/plain": [
       "array([13.45643721, 36.1338271 , 17.95181524, ..., 11.36803768,\n",
       "       32.66382385, 27.53638267])"
      ]
     },
     "execution_count": 100,
     "metadata": {},
     "output_type": "execute_result"
    }
   ],
   "source": [
    "valoresN=np.random.normal(30,15,1500)\n",
    "valoresN"
   ]
  },
  {
   "cell_type": "code",
   "execution_count": 104,
   "id": "64a0741f",
   "metadata": {},
   "outputs": [
    {
     "data": {
      "text/plain": [
       "(array([0.00058173, 0.        , 0.        , 0.        , 0.        ,\n",
       "        0.        , 0.        , 0.        , 0.        , 0.        ,\n",
       "        0.        , 0.        , 0.        , 0.        , 0.        ,\n",
       "        0.        , 0.        , 0.        , 0.00058173, 0.00058173,\n",
       "        0.        , 0.00116346, 0.00058173, 0.00116346, 0.00058173,\n",
       "        0.00058173, 0.00407211, 0.00116346, 0.00116346, 0.00116346,\n",
       "        0.00232692, 0.00465384, 0.00523557, 0.00523557, 0.00232692,\n",
       "        0.00698076, 0.00872595, 0.01163461, 0.00698076, 0.00988942,\n",
       "        0.01105288, 0.01512499, 0.0133798 , 0.01454326, 0.0133798 ,\n",
       "        0.01221634, 0.01861537, 0.0191971 , 0.01396153, 0.01861537,\n",
       "        0.02094229, 0.02443267, 0.02268748, 0.02036056, 0.03199517,\n",
       "        0.02734132, 0.02094229, 0.02734132, 0.02559613, 0.02326921,\n",
       "        0.02966825, 0.02675959, 0.03024998, 0.02385094, 0.02268748,\n",
       "        0.02850478, 0.02326921, 0.02210575, 0.0191971 , 0.02094229,\n",
       "        0.01279807, 0.01279807, 0.00872595, 0.01512499, 0.01628845,\n",
       "        0.01221634, 0.01047115, 0.00814422, 0.0058173 , 0.00814422,\n",
       "        0.00349038, 0.00756249, 0.0058173 , 0.00407211, 0.00174519,\n",
       "        0.00465384, 0.00232692, 0.00232692, 0.00058173, 0.00174519,\n",
       "        0.00058173, 0.00116346, 0.00290865, 0.00058173, 0.00116346,\n",
       "        0.        , 0.00116346, 0.        , 0.        , 0.00058173]),\n",
       " array([-36.77167072, -35.62566428, -34.47965784, -33.33365139,\n",
       "        -32.18764495, -31.04163851, -29.89563206, -28.74962562,\n",
       "        -27.60361918, -26.45761273, -25.31160629, -24.16559984,\n",
       "        -23.0195934 , -21.87358696, -20.72758051, -19.58157407,\n",
       "        -18.43556763, -17.28956118, -16.14355474, -14.9975483 ,\n",
       "        -13.85154185, -12.70553541, -11.55952897, -10.41352252,\n",
       "         -9.26751608,  -8.12150964,  -6.97550319,  -5.82949675,\n",
       "         -4.68349031,  -3.53748386,  -2.39147742,  -1.24547098,\n",
       "         -0.09946453,   1.04654191,   2.19254835,   3.3385548 ,\n",
       "          4.48456124,   5.63056768,   6.77657413,   7.92258057,\n",
       "          9.06858701,  10.21459346,  11.3605999 ,  12.50660635,\n",
       "         13.65261279,  14.79861923,  15.94462568,  17.09063212,\n",
       "         18.23663856,  19.38264501,  20.52865145,  21.67465789,\n",
       "         22.82066434,  23.96667078,  25.11267722,  26.25868367,\n",
       "         27.40469011,  28.55069655,  29.696703  ,  30.84270944,\n",
       "         31.98871588,  33.13472233,  34.28072877,  35.42673521,\n",
       "         36.57274166,  37.7187481 ,  38.86475454,  40.01076099,\n",
       "         41.15676743,  42.30277387,  43.44878032,  44.59478676,\n",
       "         45.74079321,  46.88679965,  48.03280609,  49.17881254,\n",
       "         50.32481898,  51.47082542,  52.61683187,  53.76283831,\n",
       "         54.90884475,  56.0548512 ,  57.20085764,  58.34686408,\n",
       "         59.49287053,  60.63887697,  61.78488341,  62.93088986,\n",
       "         64.0768963 ,  65.22290274,  66.36890919,  67.51491563,\n",
       "         68.66092207,  69.80692852,  70.95293496,  72.0989414 ,\n",
       "         73.24494785,  74.39095429,  75.53696073,  76.68296718,\n",
       "         77.82897362]),\n",
       " <BarContainer object of 100 artists>)"
      ]
     },
     "execution_count": 104,
     "metadata": {},
     "output_type": "execute_result"
    },
    {
     "data": {
      "image/png": "[encoded data removed]",
      "text/plain": [
       "<Figure size 432x288 with 1 Axes>"
      ]
     },
     "metadata": {
      "needs_background": "light"
     },
     "output_type": "display_data"
    }
   ],
   "source": [
    "plt.hist(valoresN, 100, density=True, facecolor='c', alpha=0.7)"
   ]
  },
  {
   "cell_type": "code",
   "execution_count": null,
   "id": "ac100c53",
   "metadata": {},
   "outputs": [],
   "source": []
  }
 ],
 "metadata": {
  "kernelspec": {
   "display_name": "Python 3 (ipykernel)",
   "language": "python",
   "name": "python3"
  },
  "language_info": {
   "codemirror_mode": {
    "name": "ipython",
    "version": 3
   },
   "file_extension": ".py",
   "mimetype": "text/x-python",
   "name": "python",
   "nbconvert_exporter": "python",
   "pygments_lexer": "ipython3",
   "version": "3.9.13"
  }
 },
 "nbformat": 4,
 "nbformat_minor": 5
}
